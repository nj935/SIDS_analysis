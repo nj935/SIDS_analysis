{
 "cells": [
  {
   "cell_type": "code",
   "execution_count": 315,
   "metadata": {},
   "outputs": [
    {
     "name": "stdout",
     "output_type": "stream",
     "text": [
      "Enabling notebook extension jupyter-js-widgets/extension...\n",
      "      - Validating: \u001b[32mOK\u001b[0m\n",
      "Populating the interactive namespace from numpy and matplotlib\n"
     ]
    },
    {
     "name": "stderr",
     "output_type": "stream",
     "text": [
      "/Users/nkwjones/anaconda3/envs/arcgis2/lib/python3.7/site-packages/IPython/core/magics/pylab.py:160: UserWarning: pylab import has clobbered these variables: ['plt', 'Polygon', 'f']\n",
      "`%matplotlib` prevents importing * from pylab and numpy\n",
      "  \"\\n`%matplotlib` prevents importing * from pylab and numpy\"\n"
     ]
    }
   ],
   "source": [
    "!jupyter nbextension enable --py widgetsnbextension\n",
    "import numpy as np\n",
    "import pandas as pd\n",
    "from arcgis import GIS\n",
    "from arcgis.geocoding import geocode\n",
    "from IPython.display import display, Image\n",
    "from arcgis.raster import ImageryLayer\n",
    "from arcgis.features import GeoAccessor, GeoSeriesAccessor\n",
    "from arcgis.geometry import Polygon, Envelope\n",
    "\n",
    "from osgeo import gdal, gdalconst, gdal_array\n",
    "import pylab as plt\n",
    "%pylab inline"
   ]
  },
  {
   "cell_type": "code",
   "execution_count": 316,
   "metadata": {},
   "outputs": [
    {
     "name": "stdout",
     "output_type": "stream",
     "text": [
      "Logged on as nj935_\n"
     ]
    }
   ],
   "source": [
    "gis = GIS(url='https://nkwjones.maps.arcgis.com',username='nj935_',password='Bemelmans1')\n",
    "print(\"Logged on as {}\".format(gis.properties.user[\"username\"]))"
   ]
  },
  {
   "cell_type": "markdown",
   "metadata": {},
   "source": [
    "### 1. Get data: borders, elevation, population\n"
   ]
  },
  {
   "cell_type": "code",
   "execution_count": 3,
   "metadata": {},
   "outputs": [],
   "source": [
    "ESRI_pop = gis.content.get('625e9da1afed40b78aaf412f519b22d3')\n",
    "pop_lyr = ESRI_pop.layers[0]"
   ]
  },
  {
   "cell_type": "code",
   "execution_count": 4,
   "metadata": {},
   "outputs": [],
   "source": [
    "ESRI_elevation = gis.content.get('58a541efc59545e6b7137f961d7de883')\n",
    "elev_lyr = ESRI_elevation.layers[0]"
   ]
  },
  {
   "cell_type": "code",
   "execution_count": 5,
   "metadata": {},
   "outputs": [],
   "source": [
    "world_boundaries = gis.content.get(\"2b93b06dc0dc4e809d3c8db5cb96ba69\")\n",
    "boundary_lyr = world_boundaries.layers[0]"
   ]
  },
  {
   "cell_type": "code",
   "execution_count": 7,
   "metadata": {},
   "outputs": [
    {
     "name": "stdout",
     "output_type": "stream",
     "text": [
      "Number of SIDS in this list: 38\n"
     ]
    }
   ],
   "source": [
    "SIDS = [\n",
    "'Antigua and Barbuda','Cook Islands','Cape Verde','Federated States of Micronesia','Comoros',\n",
    "    'Bahamas','Fiji','Guinea-Bissau','Barbados','Maldives','Belize','Mauritius','Kiribati','São Tomé and Príncipe',\n",
    "    'Cuba','Marshall Islands','Seychelles','Dominica','Nauru','Dominican Republic','Grenada',\n",
    "    'Niue','Guyana','Haiti','Palau','Jamaica','Papua New Guinea','Samoa','Solomon Islands',\n",
    "    'Timor-Leste','Saint Kitts and Nevis','Tonga','Saint Lucia','Tuvalu',\n",
    "    'Saint Vincent and the Grenadines','Vanuatu','Suriname','Trinidad and Tobago']\n",
    "print(\"Number of SIDS in this list: {}\".format(len(SIDS)))"
   ]
  },
  {
   "cell_type": "code",
   "execution_count": 13,
   "metadata": {},
   "outputs": [],
   "source": [
    "def get_bbox(country):\n",
    "    return geocode(country,category = \"Country\", out_sr=pop_lyr.properties.spatialReference)[0]['extent']"
   ]
  },
  {
   "cell_type": "code",
   "execution_count": 8,
   "metadata": {},
   "outputs": [],
   "source": [
    "sdf = pd.DataFrame.spatial.from_layer(boundary_lyr)\n",
    "sdf.drop(columns=['AFF_ISO','FID','ISO','COUNTRYAFF'],inplace=True)\n",
    "sdf = sdf[sdf['Country'].isin(SIDS)]\n",
    "sdf.set_index(\"Country\",inplace=True)\n",
    "sdf['Country'] = sdf.index\n",
    "sdf['bbox'] = sdf.Country.apply(get_bbox)"
   ]
  },
  {
   "cell_type": "code",
   "execution_count": 317,
   "metadata": {},
   "outputs": [
    {
     "data": {
      "application/vnd.jupyter.widget-view+json": {
       "model_id": "3a1a713a883f4c768b5f5253749e70ea",
       "version_major": 2,
       "version_minor": 0
      },
      "text/plain": [
       "MapView(layout=Layout(height='400px', width='100%'))"
      ]
     },
     "metadata": {},
     "output_type": "display_data"
    }
   ],
   "source": [
    "m1 = gis.map()\n",
    "m1"
   ]
  },
  {
   "cell_type": "code",
   "execution_count": 318,
   "metadata": {},
   "outputs": [
    {
     "data": {
      "text/plain": [
       "True"
      ]
     },
     "execution_count": 318,
     "metadata": {},
     "output_type": "execute_result"
    }
   ],
   "source": [
    "sdf.spatial.plot(map_widget=m1)"
   ]
  },
  {
   "cell_type": "markdown",
   "metadata": {},
   "source": [
    "### 2. Output rasters for population and elevation"
   ]
  },
  {
   "cell_type": "code",
   "execution_count": 16,
   "metadata": {},
   "outputs": [],
   "source": [
    "! mkdir \"rasters_sept_8\""
   ]
  },
  {
   "cell_type": "code",
   "execution_count": null,
   "metadata": {},
   "outputs": [],
   "source": [
    "### 3. Output raster that actually works for a given country\n",
    "First geocode and get AOI\n",
    "Then output the image\n",
    "Then read it back in and show it"
   ]
  },
  {
   "cell_type": "code",
   "execution_count": 163,
   "metadata": {},
   "outputs": [
    {
     "name": "stdout",
     "output_type": "stream",
     "text": [
      "New Zealand\n"
     ]
    }
   ],
   "source": [
    "folder = \"rasters_sept_8\"\n",
    "\n",
    "sr = pop_lyr.properties.spatialReference\n",
    "\n",
    "def pop_raster(country):\n",
    "    filename = str(\"pop_\"+str(country))\n",
    "    print(country)\n",
    "    geo = geocode(country,out_sr=sr)[0]\n",
    "    AOI = geo['extent']\n",
    "    AOI['spatialReference'] = sr\n",
    "    \n",
    "    pop_lyr.export_image(f='image',bbox=AOI, export_format='tiff',\n",
    "                         save_folder = folder, save_file=filename)\n",
    "    \n",
    "def read_pop_raster(country):\n",
    "    pop_data = gdal.Open(folder+'/pop_'+str(country), gdal.GA_ReadOnly)\n",
    "    pop = pop_data.ReadAsArray()\n",
    "    return(pop)"
   ]
  },
  {
   "cell_type": "code",
   "execution_count": 164,
   "metadata": {},
   "outputs": [
    {
     "name": "stdout",
     "output_type": "stream",
     "text": [
      "Antigua and Barbuda\n",
      "Cook Islands\n",
      "Cape Verde\n",
      "Federated States of Micronesia\n",
      "Comoros\n",
      "Bahamas\n",
      "Fiji\n",
      "Guinea-Bissau\n",
      "Barbados\n",
      "Maldives\n",
      "Belize\n",
      "Mauritius\n",
      "Kiribati\n",
      "São Tomé and Príncipe\n",
      "Cuba\n",
      "Marshall Islands\n",
      "Seychelles\n",
      "Dominica\n",
      "Nauru\n",
      "Dominican Republic\n",
      "Grenada\n",
      "Niue\n",
      "Guyana\n",
      "Haiti\n",
      "Palau\n",
      "Jamaica\n",
      "Papua New Guinea\n",
      "Samoa\n",
      "Solomon Islands\n",
      "Timor-Leste\n",
      "Saint Kitts and Nevis\n",
      "Tonga\n",
      "Saint Lucia\n",
      "Tuvalu\n",
      "Saint Vincent and the Grenadines\n",
      "Vanuatu\n",
      "Suriname\n",
      "Trinidad and Tobago\n"
     ]
    }
   ],
   "source": [
    "for i in SIDS:\n",
    "    pop_raster(i)"
   ]
  },
  {
   "cell_type": "code",
   "execution_count": 24,
   "metadata": {},
   "outputs": [],
   "source": [
    "for i in SIDS:\n",
    "    pop_raster(i)"
   ]
  },
  {
   "cell_type": "code",
   "execution_count": 25,
   "metadata": {},
   "outputs": [],
   "source": [
    "def show_raster(country):\n",
    "    img = read_pop_raster(country)\n",
    "    plt.imshow(img)"
   ]
  },
  {
   "cell_type": "code",
   "execution_count": 165,
   "metadata": {},
   "outputs": [],
   "source": [
    "def elev_raster(country):\n",
    "    filename = str(\"elev_\"+str(country))\n",
    "    print(country)\n",
    "    geo = geocode(country,out_sr=sr)[0]\n",
    "    AOI = geo['extent']\n",
    "    AOI['spatialReference'] = sr\n",
    "    \n",
    "    elev_lyr.export_image(f='image',bbox=AOI, export_format='tiff',\n",
    "                         save_folder = folder, save_file=filename)"
   ]
  },
  {
   "cell_type": "code",
   "execution_count": 167,
   "metadata": {},
   "outputs": [
    {
     "name": "stdout",
     "output_type": "stream",
     "text": [
      "Antigua and Barbuda\n",
      "Cook Islands\n",
      "Cape Verde\n",
      "Federated States of Micronesia\n",
      "Comoros\n",
      "Bahamas\n",
      "Fiji\n",
      "Guinea-Bissau\n",
      "Barbados\n",
      "Maldives\n",
      "Belize\n",
      "Mauritius\n",
      "Kiribati\n",
      "São Tomé and Príncipe\n",
      "Cuba\n",
      "Marshall Islands\n",
      "Seychelles\n",
      "Dominica\n",
      "Nauru\n",
      "Dominican Republic\n",
      "Grenada\n",
      "Niue\n",
      "Guyana\n",
      "Haiti\n",
      "Palau\n",
      "Jamaica\n",
      "Papua New Guinea\n",
      "Samoa\n",
      "Solomon Islands\n",
      "Timor-Leste\n",
      "Saint Kitts and Nevis\n",
      "Tonga\n",
      "Saint Lucia\n",
      "Tuvalu\n",
      "Saint Vincent and the Grenadines\n",
      "Vanuatu\n",
      "Suriname\n",
      "Trinidad and Tobago\n"
     ]
    }
   ],
   "source": [
    "for i in SIDS:\n",
    "    elev_raster(i)"
   ]
  },
  {
   "cell_type": "markdown",
   "metadata": {},
   "source": [
    "### 3. Display a chart of population by metres above sea level for any SID"
   ]
  },
  {
   "cell_type": "code",
   "execution_count": 178,
   "metadata": {},
   "outputs": [
    {
     "data": {
      "text/plain": [
       "<matplotlib.image.AxesImage at 0x1240656a0>"
      ]
     },
     "execution_count": 178,
     "metadata": {},
     "output_type": "execute_result"
    },
    {
     "data": {
      "image/png": "[encoded data removed]",
      "text/plain": [
       "<Figure size 432x288 with 1 Axes>"
      ]
     },
     "metadata": {},
     "output_type": "display_data"
    }
   ],
   "source": [
    "elev_data = gdal.Open(folder + '/elev_Jamaica', gdal.GA_ReadOnly)\n",
    "elev = elev_data.ReadAsArray()\n",
    "plt.imshow(elev)"
   ]
  },
  {
   "cell_type": "code",
   "execution_count": 329,
   "metadata": {},
   "outputs": [
    {
     "data": {
      "text/plain": [
       "<matplotlib.image.AxesImage at 0x1218798d0>"
      ]
     },
     "execution_count": 329,
     "metadata": {},
     "output_type": "execute_result"
    },
    {
     "data": {
      "image/png": "[encoded data removed]",
      "text/plain": [
       "<Figure size 432x288 with 1 Axes>"
      ]
     },
     "metadata": {},
     "output_type": "display_data"
    }
   ],
   "source": [
    "pop_data = gdal.Open(folder + '/pop_Jamaica', gdal.GA_ReadOnly)\n",
    "pop = pop_data.ReadAsArray()\n",
    "plt.imshow(pop,cmap=matplotlib.cm.gnuplot)"
   ]
  },
  {
   "cell_type": "code",
   "execution_count": 285,
   "metadata": {},
   "outputs": [],
   "source": [
    "def count_pop_exposed(country):\n",
    "    elev_data = gdal.Open(folder + '/elev_' + country, gdal.GA_ReadOnly)\n",
    "    elev = elev_data.ReadAsArray()\n",
    "    \n",
    "    pop_data = gdal.Open(folder + '/pop_' + country, gdal.GA_ReadOnly)\n",
    "    pop = pop_data.ReadAsArray()\n",
    "    \n",
    "    mask_land = (elev>0)\n",
    "    mask_100m = ((elev>0) & (elev<100))\n",
    "    mask_50m = ((elev>0) & (elev<50))\n",
    "    mask_20m = ((elev>0) & (elev<20))\n",
    "    mask_10m = ((elev>0) & (elev<10))\n",
    "    mask_5m = ((elev>0) & (elev<5))\n",
    "    \n",
    "    output = [np.sum(pop[mask_land]),np.sum(pop[mask_100m]),np.sum(pop[mask_50m]),\n",
    "          np.sum(pop[mask_20m]),np.sum(pop[mask_10m]),np.sum(pop[mask_5m])]\n",
    "    \n",
    "    pop_exposed = pd.DataFrame({\"elevation\":[\"all\",100,50,20,10,5],\"population\":output})\n",
    "    pop_exposed['percent_total'] = pop_exposed['population'] / pop_exposed.population[0]\n",
    "    \n",
    "    #pop_exposed.plot.bar(x=\"elevation\",y='percent_total',color='b',\n",
    "    #                 title='{}: Percent population by meters above sea level'.format(country))\n",
    "    \n",
    "    return(pop_exposed.population.tolist(),pop_exposed.percent_total.tolist())"
   ]
  },
  {
   "cell_type": "code",
   "execution_count": 280,
   "metadata": {},
   "outputs": [],
   "source": [
    "df_total = pd.DataFrame({\"Country\":SIDS}).set_index('Country').T\n",
    "df_pc = pd.DataFrame({\"Country\":SIDS}).set_index('Country').T"
   ]
  },
  {
   "cell_type": "code",
   "execution_count": 332,
   "metadata": {},
   "outputs": [],
   "source": [
    "def show_elev(country,max_elev):\n",
    "    elev_data = gdal.Open(folder + '/elev_' + country, gdal.GA_ReadOnly)\n",
    "    elev = elev_data.ReadAsArray()\n",
    "    \n",
    "    pop_data = gdal.Open(folder + '/pop_' + country, gdal.GA_ReadOnly)\n",
    "    pop = pop_data.ReadAsArray()\n",
    "    \n",
    "    mask = ((elev>0) & (elev<max_elev))\n",
    "    plt.imshow(mask)\n",
    "    plt.title(\"{}: Land up to {} m\".format(country,max_elev))"
   ]
  },
  {
   "cell_type": "code",
   "execution_count": 333,
   "metadata": {},
   "outputs": [
    {
     "data": {
      "image/png": "[encoded data removed]",
      "text/plain": [
       "<Figure size 432x288 with 1 Axes>"
      ]
     },
     "metadata": {},
     "output_type": "display_data"
    }
   ],
   "source": [
    "show_elev(\"Jamaica\",10)"
   ]
  },
  {
   "cell_type": "code",
   "execution_count": 334,
   "metadata": {},
   "outputs": [
    {
     "data": {
      "image/png": "[encoded data removed]",
      "text/plain": [
       "<Figure size 432x288 with 1 Axes>"
      ]
     },
     "metadata": {},
     "output_type": "display_data"
    }
   ],
   "source": [
    "show_elev(\"Samoa\",10)"
   ]
  },
  {
   "cell_type": "code",
   "execution_count": 335,
   "metadata": {},
   "outputs": [
    {
     "data": {
      "image/png": "[encoded data removed]",
      "text/plain": [
       "<Figure size 432x288 with 1 Axes>"
      ]
     },
     "metadata": {},
     "output_type": "display_data"
    }
   ],
   "source": [
    "show_elev(\"Dominica\",10)"
   ]
  },
  {
   "cell_type": "code",
   "execution_count": 336,
   "metadata": {},
   "outputs": [
    {
     "data": {
      "image/png": "[encoded data removed]",
      "text/plain": [
       "<Figure size 432x288 with 1 Axes>"
      ]
     },
     "metadata": {},
     "output_type": "display_data"
    }
   ],
   "source": [
    "show_elev(\"Saint Lucia\",10)"
   ]
  },
  {
   "cell_type": "code",
   "execution_count": 281,
   "metadata": {},
   "outputs": [],
   "source": [
    "for i in df_total.columns:\n",
    "    df_total[i] = count_pop_exposed(i)[0]\n",
    "    \n",
    "for i in df_pc.columns:\n",
    "    df_pc[i] = count_pop_exposed(i)[1]"
   ]
  },
  {
   "cell_type": "code",
   "execution_count": 189,
   "metadata": {},
   "outputs": [
    {
     "data": {
      "image/png": "[encoded data removed]",
      "text/plain": [
       "<Figure size 432x288 with 1 Axes>"
      ]
     },
     "metadata": {},
     "output_type": "display_data"
    }
   ],
   "source": [
    "count_pop_exposed(\"Samoa\")"
   ]
  },
  {
   "cell_type": "code",
   "execution_count": 282,
   "metadata": {},
   "outputs": [
    {
     "data": {
      "text/html": [
       "<div>\n",
       "<style scoped>\n",
       "    .dataframe tbody tr th:only-of-type {\n",
       "        vertical-align: middle;\n",
       "    }\n",
       "\n",
       "    .dataframe tbody tr th {\n",
       "        vertical-align: top;\n",
       "    }\n",
       "\n",
       "    .dataframe thead th {\n",
       "        text-align: right;\n",
       "    }\n",
       "</style>\n",
       "<table border=\"1\" class=\"dataframe\">\n",
       "  <thead>\n",
       "    <tr style=\"text-align: right;\">\n",
       "      <th></th>\n",
       "      <th>all</th>\n",
       "      <th>100m</th>\n",
       "      <th>50m</th>\n",
       "      <th>20m</th>\n",
       "      <th>10m</th>\n",
       "      <th>5m</th>\n",
       "    </tr>\n",
       "    <tr>\n",
       "      <th>Country</th>\n",
       "      <th></th>\n",
       "      <th></th>\n",
       "      <th></th>\n",
       "      <th></th>\n",
       "      <th></th>\n",
       "      <th></th>\n",
       "    </tr>\n",
       "  </thead>\n",
       "  <tbody>\n",
       "    <tr>\n",
       "      <th>Antigua and Barbuda</th>\n",
       "      <td>1.0</td>\n",
       "      <td>0.886240</td>\n",
       "      <td>0.659536</td>\n",
       "      <td>0.329230</td>\n",
       "      <td>0.146012</td>\n",
       "      <td>0.072566</td>\n",
       "    </tr>\n",
       "    <tr>\n",
       "      <th>Cook Islands</th>\n",
       "      <td>1.0</td>\n",
       "      <td>0.545715</td>\n",
       "      <td>0.432441</td>\n",
       "      <td>0.375400</td>\n",
       "      <td>0.210016</td>\n",
       "      <td>0.167686</td>\n",
       "    </tr>\n",
       "    <tr>\n",
       "      <th>Cape Verde</th>\n",
       "      <td>1.0</td>\n",
       "      <td>0.689407</td>\n",
       "      <td>0.448109</td>\n",
       "      <td>0.220623</td>\n",
       "      <td>0.126733</td>\n",
       "      <td>0.057630</td>\n",
       "    </tr>\n",
       "    <tr>\n",
       "      <th>Federated States of Micronesia</th>\n",
       "      <td>1.0</td>\n",
       "      <td>0.736137</td>\n",
       "      <td>0.512006</td>\n",
       "      <td>0.427434</td>\n",
       "      <td>0.277594</td>\n",
       "      <td>0.280910</td>\n",
       "    </tr>\n",
       "    <tr>\n",
       "      <th>Comoros</th>\n",
       "      <td>1.0</td>\n",
       "      <td>0.545132</td>\n",
       "      <td>0.448160</td>\n",
       "      <td>0.225952</td>\n",
       "      <td>0.086689</td>\n",
       "      <td>0.021439</td>\n",
       "    </tr>\n",
       "    <tr>\n",
       "      <th>Bahamas</th>\n",
       "      <td>1.0</td>\n",
       "      <td>0.953544</td>\n",
       "      <td>0.849916</td>\n",
       "      <td>0.652907</td>\n",
       "      <td>0.541288</td>\n",
       "      <td>0.397597</td>\n",
       "    </tr>\n",
       "    <tr>\n",
       "      <th>Fiji</th>\n",
       "      <td>1.0</td>\n",
       "      <td>0.764710</td>\n",
       "      <td>0.578290</td>\n",
       "      <td>0.339209</td>\n",
       "      <td>0.195706</td>\n",
       "      <td>0.065933</td>\n",
       "    </tr>\n",
       "    <tr>\n",
       "      <th>Guinea-Bissau</th>\n",
       "      <td>1.0</td>\n",
       "      <td>0.642804</td>\n",
       "      <td>0.538370</td>\n",
       "      <td>0.245903</td>\n",
       "      <td>0.079408</td>\n",
       "      <td>0.017765</td>\n",
       "    </tr>\n",
       "    <tr>\n",
       "      <th>Barbados</th>\n",
       "      <td>1.0</td>\n",
       "      <td>0.752093</td>\n",
       "      <td>0.481825</td>\n",
       "      <td>0.205949</td>\n",
       "      <td>0.093248</td>\n",
       "      <td>0.037169</td>\n",
       "    </tr>\n",
       "    <tr>\n",
       "      <th>Maldives</th>\n",
       "      <td>1.0</td>\n",
       "      <td>1.000000</td>\n",
       "      <td>1.000000</td>\n",
       "      <td>1.000000</td>\n",
       "      <td>1.000000</td>\n",
       "      <td>1.000010</td>\n",
       "    </tr>\n",
       "    <tr>\n",
       "      <th>Belize</th>\n",
       "      <td>1.0</td>\n",
       "      <td>0.434550</td>\n",
       "      <td>0.273250</td>\n",
       "      <td>0.164814</td>\n",
       "      <td>0.087830</td>\n",
       "      <td>0.045972</td>\n",
       "    </tr>\n",
       "    <tr>\n",
       "      <th>Mauritius</th>\n",
       "      <td>1.0</td>\n",
       "      <td>0.255154</td>\n",
       "      <td>0.184499</td>\n",
       "      <td>0.138201</td>\n",
       "      <td>0.098312</td>\n",
       "      <td>0.063024</td>\n",
       "    </tr>\n",
       "    <tr>\n",
       "      <th>Kiribati</th>\n",
       "      <td>1.0</td>\n",
       "      <td>0.939086</td>\n",
       "      <td>0.868020</td>\n",
       "      <td>0.807107</td>\n",
       "      <td>0.736041</td>\n",
       "      <td>0.685279</td>\n",
       "    </tr>\n",
       "    <tr>\n",
       "      <th>São Tomé and Príncipe</th>\n",
       "      <td>1.0</td>\n",
       "      <td>0.732040</td>\n",
       "      <td>0.570314</td>\n",
       "      <td>0.361661</td>\n",
       "      <td>0.227529</td>\n",
       "      <td>0.101874</td>\n",
       "    </tr>\n",
       "    <tr>\n",
       "      <th>Cuba</th>\n",
       "      <td>1.0</td>\n",
       "      <td>0.658208</td>\n",
       "      <td>0.449898</td>\n",
       "      <td>0.236930</td>\n",
       "      <td>0.119154</td>\n",
       "      <td>0.037167</td>\n",
       "    </tr>\n",
       "    <tr>\n",
       "      <th>Marshall Islands</th>\n",
       "      <td>1.0</td>\n",
       "      <td>1.000342</td>\n",
       "      <td>1.002050</td>\n",
       "      <td>1.002733</td>\n",
       "      <td>1.003758</td>\n",
       "      <td>0.596174</td>\n",
       "    </tr>\n",
       "    <tr>\n",
       "      <th>Seychelles</th>\n",
       "      <td>1.0</td>\n",
       "      <td>0.717267</td>\n",
       "      <td>0.435395</td>\n",
       "      <td>0.365519</td>\n",
       "      <td>0.065304</td>\n",
       "      <td>0.067025</td>\n",
       "    </tr>\n",
       "    <tr>\n",
       "      <th>Dominica</th>\n",
       "      <td>1.0</td>\n",
       "      <td>0.666891</td>\n",
       "      <td>0.380474</td>\n",
       "      <td>0.187641</td>\n",
       "      <td>0.088726</td>\n",
       "      <td>0.026120</td>\n",
       "    </tr>\n",
       "    <tr>\n",
       "      <th>Nauru</th>\n",
       "      <td>1.0</td>\n",
       "      <td>1.000000</td>\n",
       "      <td>0.996835</td>\n",
       "      <td>0.652794</td>\n",
       "      <td>0.513308</td>\n",
       "      <td>0.379779</td>\n",
       "    </tr>\n",
       "    <tr>\n",
       "      <th>Dominican Republic</th>\n",
       "      <td>1.0</td>\n",
       "      <td>0.529071</td>\n",
       "      <td>0.369427</td>\n",
       "      <td>0.142870</td>\n",
       "      <td>0.073766</td>\n",
       "      <td>0.029356</td>\n",
       "    </tr>\n",
       "    <tr>\n",
       "      <th>Grenada</th>\n",
       "      <td>1.0</td>\n",
       "      <td>0.701255</td>\n",
       "      <td>0.470290</td>\n",
       "      <td>0.223135</td>\n",
       "      <td>0.118569</td>\n",
       "      <td>0.058232</td>\n",
       "    </tr>\n",
       "    <tr>\n",
       "      <th>Niue</th>\n",
       "      <td>1.0</td>\n",
       "      <td>1.000000</td>\n",
       "      <td>0.033649</td>\n",
       "      <td>0.000540</td>\n",
       "      <td>0.000163</td>\n",
       "      <td>0.000362</td>\n",
       "    </tr>\n",
       "    <tr>\n",
       "      <th>Guyana</th>\n",
       "      <td>1.0</td>\n",
       "      <td>0.674517</td>\n",
       "      <td>0.473189</td>\n",
       "      <td>0.391733</td>\n",
       "      <td>0.341940</td>\n",
       "      <td>0.267991</td>\n",
       "    </tr>\n",
       "    <tr>\n",
       "      <th>Haiti</th>\n",
       "      <td>1.0</td>\n",
       "      <td>0.530844</td>\n",
       "      <td>0.369746</td>\n",
       "      <td>0.134675</td>\n",
       "      <td>0.058448</td>\n",
       "      <td>0.019436</td>\n",
       "    </tr>\n",
       "    <tr>\n",
       "      <th>Palau</th>\n",
       "      <td>1.0</td>\n",
       "      <td>1.000000</td>\n",
       "      <td>0.982582</td>\n",
       "      <td>0.620311</td>\n",
       "      <td>0.462573</td>\n",
       "      <td>0.367764</td>\n",
       "    </tr>\n",
       "    <tr>\n",
       "      <th>Jamaica</th>\n",
       "      <td>1.0</td>\n",
       "      <td>0.568832</td>\n",
       "      <td>0.412720</td>\n",
       "      <td>0.233124</td>\n",
       "      <td>0.141705</td>\n",
       "      <td>0.070832</td>\n",
       "    </tr>\n",
       "    <tr>\n",
       "      <th>Papua New Guinea</th>\n",
       "      <td>1.0</td>\n",
       "      <td>0.429633</td>\n",
       "      <td>0.301436</td>\n",
       "      <td>0.142792</td>\n",
       "      <td>0.059973</td>\n",
       "      <td>0.033064</td>\n",
       "    </tr>\n",
       "    <tr>\n",
       "      <th>Samoa</th>\n",
       "      <td>1.0</td>\n",
       "      <td>0.894506</td>\n",
       "      <td>0.731209</td>\n",
       "      <td>0.516042</td>\n",
       "      <td>0.374070</td>\n",
       "      <td>0.227769</td>\n",
       "    </tr>\n",
       "    <tr>\n",
       "      <th>Solomon Islands</th>\n",
       "      <td>1.0</td>\n",
       "      <td>0.656456</td>\n",
       "      <td>0.537955</td>\n",
       "      <td>0.333119</td>\n",
       "      <td>0.104137</td>\n",
       "      <td>0.065427</td>\n",
       "    </tr>\n",
       "    <tr>\n",
       "      <th>Timor-Leste</th>\n",
       "      <td>1.0</td>\n",
       "      <td>0.381487</td>\n",
       "      <td>0.290964</td>\n",
       "      <td>0.147143</td>\n",
       "      <td>0.070591</td>\n",
       "      <td>0.027116</td>\n",
       "    </tr>\n",
       "    <tr>\n",
       "      <th>Saint Kitts and Nevis</th>\n",
       "      <td>1.0</td>\n",
       "      <td>0.815933</td>\n",
       "      <td>0.488762</td>\n",
       "      <td>0.188633</td>\n",
       "      <td>0.109800</td>\n",
       "      <td>0.068570</td>\n",
       "    </tr>\n",
       "    <tr>\n",
       "      <th>Tonga</th>\n",
       "      <td>1.0</td>\n",
       "      <td>0.995920</td>\n",
       "      <td>0.969899</td>\n",
       "      <td>0.812256</td>\n",
       "      <td>0.501201</td>\n",
       "      <td>0.241206</td>\n",
       "    </tr>\n",
       "    <tr>\n",
       "      <th>Saint Lucia</th>\n",
       "      <td>1.0</td>\n",
       "      <td>0.738959</td>\n",
       "      <td>0.531768</td>\n",
       "      <td>0.300758</td>\n",
       "      <td>0.171628</td>\n",
       "      <td>0.087534</td>\n",
       "    </tr>\n",
       "    <tr>\n",
       "      <th>Tuvalu</th>\n",
       "      <td>1.0</td>\n",
       "      <td>1.000000</td>\n",
       "      <td>1.000000</td>\n",
       "      <td>1.000000</td>\n",
       "      <td>1.000000</td>\n",
       "      <td>0.869330</td>\n",
       "    </tr>\n",
       "    <tr>\n",
       "      <th>Saint Vincent and the Grenadines</th>\n",
       "      <td>1.0</td>\n",
       "      <td>0.578459</td>\n",
       "      <td>0.339569</td>\n",
       "      <td>0.145836</td>\n",
       "      <td>0.081079</td>\n",
       "      <td>0.043950</td>\n",
       "    </tr>\n",
       "    <tr>\n",
       "      <th>Vanuatu</th>\n",
       "      <td>1.0</td>\n",
       "      <td>0.853321</td>\n",
       "      <td>0.644188</td>\n",
       "      <td>0.439783</td>\n",
       "      <td>0.207406</td>\n",
       "      <td>0.062399</td>\n",
       "    </tr>\n",
       "    <tr>\n",
       "      <th>Suriname</th>\n",
       "      <td>1.0</td>\n",
       "      <td>0.882956</td>\n",
       "      <td>0.598926</td>\n",
       "      <td>0.506080</td>\n",
       "      <td>0.400718</td>\n",
       "      <td>0.274374</td>\n",
       "    </tr>\n",
       "    <tr>\n",
       "      <th>Trinidad and Tobago</th>\n",
       "      <td>1.0</td>\n",
       "      <td>0.906496</td>\n",
       "      <td>0.764732</td>\n",
       "      <td>0.406257</td>\n",
       "      <td>0.187188</td>\n",
       "      <td>0.075698</td>\n",
       "    </tr>\n",
       "  </tbody>\n",
       "</table>\n",
       "</div>"
      ],
      "text/plain": [
       "                                  all      100m       50m       20m       10m  \\\n",
       "Country                                                                         \n",
       "Antigua and Barbuda               1.0  0.886240  0.659536  0.329230  0.146012   \n",
       "Cook Islands                      1.0  0.545715  0.432441  0.375400  0.210016   \n",
       "Cape Verde                        1.0  0.689407  0.448109  0.220623  0.126733   \n",
       "Federated States of Micronesia    1.0  0.736137  0.512006  0.427434  0.277594   \n",
       "Comoros                           1.0  0.545132  0.448160  0.225952  0.086689   \n",
       "Bahamas                           1.0  0.953544  0.849916  0.652907  0.541288   \n",
       "Fiji                              1.0  0.764710  0.578290  0.339209  0.195706   \n",
       "Guinea-Bissau                     1.0  0.642804  0.538370  0.245903  0.079408   \n",
       "Barbados                          1.0  0.752093  0.481825  0.205949  0.093248   \n",
       "Maldives                          1.0  1.000000  1.000000  1.000000  1.000000   \n",
       "Belize                            1.0  0.434550  0.273250  0.164814  0.087830   \n",
       "Mauritius                         1.0  0.255154  0.184499  0.138201  0.098312   \n",
       "Kiribati                          1.0  0.939086  0.868020  0.807107  0.736041   \n",
       "São Tomé and Príncipe             1.0  0.732040  0.570314  0.361661  0.227529   \n",
       "Cuba                              1.0  0.658208  0.449898  0.236930  0.119154   \n",
       "Marshall Islands                  1.0  1.000342  1.002050  1.002733  1.003758   \n",
       "Seychelles                        1.0  0.717267  0.435395  0.365519  0.065304   \n",
       "Dominica                          1.0  0.666891  0.380474  0.187641  0.088726   \n",
       "Nauru                             1.0  1.000000  0.996835  0.652794  0.513308   \n",
       "Dominican Republic                1.0  0.529071  0.369427  0.142870  0.073766   \n",
       "Grenada                           1.0  0.701255  0.470290  0.223135  0.118569   \n",
       "Niue                              1.0  1.000000  0.033649  0.000540  0.000163   \n",
       "Guyana                            1.0  0.674517  0.473189  0.391733  0.341940   \n",
       "Haiti                             1.0  0.530844  0.369746  0.134675  0.058448   \n",
       "Palau                             1.0  1.000000  0.982582  0.620311  0.462573   \n",
       "Jamaica                           1.0  0.568832  0.412720  0.233124  0.141705   \n",
       "Papua New Guinea                  1.0  0.429633  0.301436  0.142792  0.059973   \n",
       "Samoa                             1.0  0.894506  0.731209  0.516042  0.374070   \n",
       "Solomon Islands                   1.0  0.656456  0.537955  0.333119  0.104137   \n",
       "Timor-Leste                       1.0  0.381487  0.290964  0.147143  0.070591   \n",
       "Saint Kitts and Nevis             1.0  0.815933  0.488762  0.188633  0.109800   \n",
       "Tonga                             1.0  0.995920  0.969899  0.812256  0.501201   \n",
       "Saint Lucia                       1.0  0.738959  0.531768  0.300758  0.171628   \n",
       "Tuvalu                            1.0  1.000000  1.000000  1.000000  1.000000   \n",
       "Saint Vincent and the Grenadines  1.0  0.578459  0.339569  0.145836  0.081079   \n",
       "Vanuatu                           1.0  0.853321  0.644188  0.439783  0.207406   \n",
       "Suriname                          1.0  0.882956  0.598926  0.506080  0.400718   \n",
       "Trinidad and Tobago               1.0  0.906496  0.764732  0.406257  0.187188   \n",
       "\n",
       "                                        5m  \n",
       "Country                                     \n",
       "Antigua and Barbuda               0.072566  \n",
       "Cook Islands                      0.167686  \n",
       "Cape Verde                        0.057630  \n",
       "Federated States of Micronesia    0.280910  \n",
       "Comoros                           0.021439  \n",
       "Bahamas                           0.397597  \n",
       "Fiji                              0.065933  \n",
       "Guinea-Bissau                     0.017765  \n",
       "Barbados                          0.037169  \n",
       "Maldives                          1.000010  \n",
       "Belize                            0.045972  \n",
       "Mauritius                         0.063024  \n",
       "Kiribati                          0.685279  \n",
       "São Tomé and Príncipe             0.101874  \n",
       "Cuba                              0.037167  \n",
       "Marshall Islands                  0.596174  \n",
       "Seychelles                        0.067025  \n",
       "Dominica                          0.026120  \n",
       "Nauru                             0.379779  \n",
       "Dominican Republic                0.029356  \n",
       "Grenada                           0.058232  \n",
       "Niue                              0.000362  \n",
       "Guyana                            0.267991  \n",
       "Haiti                             0.019436  \n",
       "Palau                             0.367764  \n",
       "Jamaica                           0.070832  \n",
       "Papua New Guinea                  0.033064  \n",
       "Samoa                             0.227769  \n",
       "Solomon Islands                   0.065427  \n",
       "Timor-Leste                       0.027116  \n",
       "Saint Kitts and Nevis             0.068570  \n",
       "Tonga                             0.241206  \n",
       "Saint Lucia                       0.087534  \n",
       "Tuvalu                            0.869330  \n",
       "Saint Vincent and the Grenadines  0.043950  \n",
       "Vanuatu                           0.062399  \n",
       "Suriname                          0.274374  \n",
       "Trinidad and Tobago               0.075698  "
      ]
     },
     "execution_count": 282,
     "metadata": {},
     "output_type": "execute_result"
    }
   ],
   "source": [
    "df_pc=df_pc.T\n",
    "df_pc.columns=[\"all\",'100m','50m','20m','10m','5m']\n",
    "df_pc"
   ]
  },
  {
   "cell_type": "code",
   "execution_count": 284,
   "metadata": {},
   "outputs": [
    {
     "data": {
      "image/png": "[encoded data removed]",
      "text/plain": [
       "<Figure size 720x720 with 1 Axes>"
      ]
     },
     "metadata": {},
     "output_type": "display_data"
    }
   ],
   "source": [
    "def plot_pop_elev(elev):\n",
    "    df_pc[elev][:20].sort_values(ascending=True).plot(kind='barh',figsize=[10,10],\n",
    "                        title=\"Percent population at <= {} above sea level\".format(elev))\n",
    "plot_pop_elev('100m')"
   ]
  }
 ],
 "metadata": {
  "kernelspec": {
   "display_name": "arcgis2",
   "language": "python",
   "name": "arcgis2"
  },
  "language_info": {
   "codemirror_mode": {
    "name": "ipython",
    "version": 3
   },
   "file_extension": ".py",
   "mimetype": "text/x-python",
   "name": "python",
   "nbconvert_exporter": "python",
   "pygments_lexer": "ipython3",
   "version": "3.7.0"
  }
 },
 "nbformat": 4,
 "nbformat_minor": 2
}
